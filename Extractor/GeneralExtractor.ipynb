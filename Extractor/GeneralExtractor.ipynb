{
 "cells": [
  {
   "cell_type": "markdown",
   "metadata": {},
   "source": [
    "# Extrator de informações genérico"
   ]
  },
  {
   "cell_type": "code",
   "execution_count": 3,
   "metadata": {},
   "outputs": [],
   "source": [
    "import pandas as pd\n",
    "import os\n",
    "from bs4 import BeautifulSoup\n",
    "import re"
   ]
  },
  {
   "cell_type": "markdown",
   "metadata": {},
   "source": [
    "## Criando lista de páginas"
   ]
  },
  {
   "cell_type": "code",
   "execution_count": 51,
   "metadata": {},
   "outputs": [
    {
     "name": "stdout",
     "output_type": "stream",
     "text": [
      "91\n"
     ]
    },
    {
     "data": {
      "text/plain": [
       "91"
      ]
     },
     "execution_count": 51,
     "metadata": {},
     "output_type": "execute_result"
    }
   ],
   "source": [
    "soups = []\n",
    "files = []\n",
    "for dirpath,_,filenames in os.walk(os.path.abspath('..\\\\Pages\\\\Positives\\\\')):\n",
    "    for f in filenames:\n",
    "        file = os.path.abspath(os.path.join(dirpath, f))\n",
    "        files.append(file)\n",
    "        soups.append(BeautifulSoup(\n",
    "        open(file, encoding='utf-8'), 'html.parser'))\n",
    "print(len(files))\n",
    "len(soups)"
   ]
  },
  {
   "cell_type": "markdown",
   "metadata": {},
   "source": [
    "## Extraindo nomes dos psicologos"
   ]
  },
  {
   "cell_type": "markdown",
   "metadata": {},
   "source": [
    "Antes de começarmos vamos examinar rapidamente os campos h1's das páginas, uma vez que imaginasse que o nome do psicólogo deva ser encontrado neste campo"
   ]
  },
  {
   "cell_type": "code",
   "execution_count": 64,
   "metadata": {
    "scrolled": false
   },
   "outputs": [
    {
     "name": "stdout",
     "output_type": "stream",
     "text": [
      "0 - Empty result\n",
      "1 - Empty result\n",
      "2 - Empty result\n",
      "3 - Empty result\n",
      "4 - Empty result\n",
      "5 - Empty result\n",
      "6 - Empty result\n",
      "7 - Empty result\n",
      "8 - Empty result\n",
      "9 - Empty result\n",
      "10 - 2 - div - Sérgio Alexandre Alves Fernandes -- div - Sérgio Alexandre Alves Fernandes\n",
      "11 - 2 - div - Luiz Gustavo Canuto -- div - Luiz Gustavo Canuto\n",
      "12 - 2 - div - Igor Costa -- div - Igor Costa\n",
      "13 - 2 - div - Bruno Schievenin Madi -- div - Bruno Schievenin Madi\n",
      "14 - 2 - div - Sandro Azevêdo -- div - Sandro Azevêdo\n",
      "15 - 2 - div - Wilza M Brosig -- div - Wilza M Brosig\n",
      "16 - 2 - div - Dra. Luciana Dias Nascimento -- div - Dra. Luciana Dias Nascimento\n",
      "17 - 2 - div - Fernanda Simionato Costa -- div - Fernanda Simionato Costa\n",
      "18 - 2 - div - Rodrigo Noia Mattos Montan -- div - Rodrigo Noia Mattos Montan\n",
      "19 - 2 - div - Kassia Arouca cardoso -- div - Kassia Arouca cardoso\n",
      "20 - 2 - div - Dr. Caio Fasoli Rebouças -- div - Dr. Caio Fasoli Rebouças\n",
      "21 - 1 -- ADRIANA PANZAN\n",
      "22 - 1 -- CONSULTORIO DE PSICOLOGIA SORAIA S GRANADO RODRIGUES\n",
      "23 - 1 -- PSICOVIDA - PSICOLOGIA & NEUROPSICOLOGIA\n",
      "24 - 1 -- SIMONE GUIMARAES PSICOLOGIA\n",
      "25 - 1 -- ANA MEDIOLARO PSICOLOGIA CLINICA\n",
      "26 - 1 -- DANIELLE CRISTINA GAZZONI\n",
      "27 - 1 -- DR. ADRIANO MACHADO OLIVEIRA - SALUTE 21\n",
      "28 - 1 -- LEILA  DOURADO\n",
      "29 - 1 -- ESPAÇO COMPORTAMENTAL\n",
      "30 - 1 -- ANDREA ZANETTI\n",
      "31 - 1 -- Mônica Komora\n",
      "32 - 1 -- Abdon Sardinha\n",
      "33 - 1 -- Espaço Consciência Psicologia e outras Terapias\n",
      "34 - 1 -- Sandra Pereira\n",
      "35 - 1 -- Vera Pelizzari Psicóloga Clínica\n",
      "36 - 1 -- Novos Horizontes\n",
      "37 - 1 -- Ussénade Maria de Oliveira\n",
      "38 - 1 -- Sumara Gonçalves\n",
      "39 - 1 -- Cristyani Paiva\n",
      "40 - 1 -- Lia Soares Dantas\n",
      "41 - 1 --  Hildes do Amparo Delduque Farina\n",
      "42 - 1 --  Silvia Reis de Azevedo\n",
      "43 - 2 - section -  Daniela  Ervolino -- span -  \n",
      "44 - 1 --  Fernando Luiz da Silva Boldorini\n",
      "45 - 1 --  Tania Novinsky Haberkorn\n",
      "46 - 1 --  Brisa Nepomuceno\n",
      "47 - 1 --  Claudia  Julieta Araujo de Faria\n",
      "48 - 1 --  Pedro Antonio Liston\n",
      "49 - 1 --  Amanda Gonzalez de Toledo\n",
      "50 - 1 --  Cinthia Duran Ferreira\n",
      "51 - 1 -- Psicólogos do Brasil -  Zara Bruno\n",
      "52 - 1 -- Psicólogos do Brasil -  Marcia Florencio\n",
      "53 - 1 -- Psicólogos do Brasil -  Suely de Fátima Torres Cavalcanti\n",
      "54 - 1 -- Psicólogos do Brasil -  Vilma\n",
      "55 - 1 -- Psicólogos do Brasil -  Sandro Alex Da Costa Silva\n",
      "56 - 1 -- Psicólogos do Brasil -  Thiago Romano dos Santos\n",
      "57 - 1 -- Psicólogos do Brasil -  Lilian Fogaça\n",
      "58 - 1 -- Psicólogos do Brasil -  Rose Silva\n",
      "59 - 1 -- Psicólogos do Brasil -  Fernando Vargas Hurtado\n",
      "60 - 1 -- Psicólogos do Brasil -  Sueli dos Santos\n",
      "61 - 2 - a - Psicanalistas em Botafogo, Rio de Janeiro - RJ -- div - Maria de Fátima Cunha em Botafogo\n",
      "62 - 2 - a - Psicanalistas em Rio de Janeiro - RJ -- div - Lena Lerner Mintzberg\n",
      "63 - 2 - a - Psicanalistas em Recife - PE -- div - Drº Fernando Santana\n",
      "64 - 2 - a - Psicanalistas em Santa Efigênia, Belo Horizonte - MG -- div - Clínica Social de Psicanálise e Psiquiatria\n",
      "65 - 2 - a - Psicanalistas em Fundinho, Uberlândia - MG -- div - Aline Dias - psicóloga clínica\n",
      "66 - 2 - a - Psicanalistas em Marista, Goiânia - GO -- div - Alline Lins de Alencar Furtado\n",
      "67 - 2 - a - Psicanalistas em Setor Oeste, Goiânia - GO -- div - Amanda Hipólito M. de Oliveira\n",
      "68 - 2 - a - Psicanalistas em Rio de Janeiro - RJ -- div - Ana Carolina Vianna\n",
      "69 - 2 - a - Psicanalistas em Funcionários, Belo Horizonte - MG -- div - Andréa F Coelho\n",
      "70 - 2 - a - Psicanalistas em Santa Efigênia, Belo Horizonte - MG -- div - Tatiana Sousa Pinto\n",
      "71 - 1 -- Jose Soares Dos Santos Neto\n",
      "72 - 1 -- Ysis Santos Coelho\n",
      "73 - 1 -- Cristina Fernandes Santos\n",
      "74 - 1 -- Andrea Cristiane Do Carmo Vasconcelos\n",
      "75 - 1 -- Stephanie Krieger\n",
      "76 - 1 -- Aline Maria Simoes De Coster\n",
      "77 - 1 -- Gil Ferreira De Noronha\n",
      "78 - 1 -- Jessye Cantini\n",
      "79 - 1 -- Nathalia Santos Noronha Da Silva\n",
      "80 - 1 -- Milena Puga Araujo\n",
      "81 - 1 -- Wantuir Ribeiro\n",
      "82 - 1 -- Larissa Coutens de Menezes\n",
      "83 - 1 -- Claudia Comaru\n",
      "84 - 1 -- Monica Amaral de Oliveira\n",
      "85 - 1 -- Julieta Seixas Moizes\n",
      "86 - 1 -- Ana Carolina Monteiro Grasso\n",
      "87 - 1 -- Beatriz Machado Wollny\n",
      "88 - 1 -- Raquel Gonçalves Ribeiro\n",
      "89 - 1 -- Bruno Pael dos Santos\n",
      "90 - 1 -- Franciane Dal Pizzol\n"
     ]
    }
   ],
   "source": [
    "def clean_text(text):\n",
    "    return text.replace('\\n', '').replace('\\t', '');\n",
    "\n",
    "for index, soup in enumerate(soups):\n",
    "    h1s = soup.find_all('h1')\n",
    "    if(len(h1s) == 1):\n",
    "        print(str(index) + ' - ' + str(len(h1s)) + ' -- ' + clean_text(h1s[0].text))\n",
    "    elif(len(h1s) == 2):\n",
    "        print(str(index) + ' - ' + str(len(h1s)) + ' - ' + str(h1s[0].parent.name) +\n",
    "              ' - ' + clean_text(h1s[0].text) + ' -- ' + str(h1s[1].parent.name) + ' - '+ clean_text(h1s[1].text))\n",
    "    else:\n",
    "        print( str(index) + ' - Empty result')\n",
    "\n"
   ]
  },
  {
   "cell_type": "markdown",
   "metadata": {},
   "source": [
    "Analisando a coleta acima é possível perceber que existem poucos padrões diferentes.\n",
    "\n",
    "Primeiro podemos identificar que as páginas possuem de 0 a 2 campos com a tag H1.\n",
    "\n",
    "Onde o classificados não possui uma tag h1 em seu corpo, enquanto o doctoralia e o telelistas possuem essa tag 2x em seu corpo, além disto o dominio <b>psicolink</b> possui 1 página outlier que possui 2 tags H1 na mesma página, enquanto todas as demais possuem apenas 1.\n",
    "\n",
    "A maioria dos dominios pode se utilizar apenas pegar o primeiro campo H1 para se extrair o campo nome, porém os dominios Psicólgoos do Brasil, telelistas e classificados precisam de um tratamento extra para serem cobertos.\n",
    "\n",
    "Segue abaixo suas particularidades.\n",
    "O dominio <b>classificados</b> não possui a tag h1, onde é possível observar que seus campos estão sempre dentro de uma tabela, talvez esse domínio seja o mais diferente dentre os utilizados.\n",
    "\n",
    "O <b>telelistas</b> é o único cuja tag <b>H1</b> esta dentro de uma tag <b>A</b> e esta deve ser ignorada, também sendo o único em que o campo nome não esta na primeira tag <b>H1</b> encontrada e ainda apesar do campo nome se encontrar na segunda tag <b>H1</b> o mesmo vem com a cidade pós-fixada dentro do próprio campo.\n",
    "\n",
    "O domínio <b>psicólogos do brasil</b> possui o campo nome na tag <b>H1</b>, porém o mesmo trás como prefixo o nome do próprio domínio.\n",
    "\n",
    "Assim com o algoritmo de extrair o campo diretamente da primeira tag <b>H1</b> encontrada, possuimos:\n",
    "\n",
    "<b>Cobertura: 89%</b>\n",
    "<b>Precisão: 75.3%</b>"
   ]
  },
  {
   "cell_type": "markdown",
   "metadata": {},
   "source": [
    "### Melhorando a extração dos nomes\n",
    "Desta forma a primeira estratégia que se vem a mente para aumentar a precisão do extrator genérico é adicionar condicionais a cerca da seleção da tag quando encontrarmos mais que uma tag <b>H1</b> na página, ao simplesmente alterar a estratégia para pegar a última tag <b>H1</b>, obtemos uma <b>Precisão de 86.4%</b> pois coletaremos corretamente todas as páginas do domínio <b>Telelistas</b>, porém o outlier encontrado no domínio <b>psicolink</b> não será extraido corretamente."
   ]
  }
 ],
 "metadata": {
  "kernelspec": {
   "display_name": "Python 3",
   "language": "python",
   "name": "python3"
  },
  "language_info": {
   "codemirror_mode": {
    "name": "ipython",
    "version": 3
   },
   "file_extension": ".py",
   "mimetype": "text/x-python",
   "name": "python",
   "nbconvert_exporter": "python",
   "pygments_lexer": "ipython3",
   "version": "3.6.4"
  }
 },
 "nbformat": 4,
 "nbformat_minor": 2
}
